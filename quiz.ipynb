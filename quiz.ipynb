{
 "metadata": {
  "language_info": {
   "codemirror_mode": {
    "name": "ipython",
    "version": 3
   },
   "file_extension": ".py",
   "mimetype": "text/x-python",
   "name": "python",
   "nbconvert_exporter": "python",
   "pygments_lexer": "ipython3",
   "version": "3.8.3-final"
  },
  "orig_nbformat": 2,
  "kernelspec": {
   "name": "python3",
   "display_name": "Python 3.8.3 64-bit",
   "metadata": {
    "interpreter": {
     "hash": "2db524e06e9f5f4ffedc911c917cb75e12dbc923643829bf417064a77eb14d37"
    }
   }
  }
 },
 "nbformat": 4,
 "nbformat_minor": 2,
 "cells": [
  {
   "source": [
    "### Question 1"
   ],
   "cell_type": "markdown",
   "metadata": {}
  },
  {
   "cell_type": "code",
   "execution_count": 1,
   "metadata": {},
   "outputs": [],
   "source": [
    "def q1():\n",
    "\tprint(\"hello\" * 5)"
   ]
  },
  {
   "cell_type": "code",
   "execution_count": 2,
   "metadata": {},
   "outputs": [
    {
     "output_type": "stream",
     "name": "stdout",
     "text": [
      "hellohellohellohellohello\n"
     ]
    }
   ],
   "source": [
    "q1()"
   ]
  },
  {
   "source": [
    "### Question 2"
   ],
   "cell_type": "markdown",
   "metadata": {}
  },
  {
   "cell_type": "code",
   "execution_count": 7,
   "metadata": {},
   "outputs": [],
   "source": [
    "def q2():\n",
    "\tx, y = 4, 5\n",
    "\ty, x = x, y\n",
    "\tprint(x, y)"
   ]
  },
  {
   "cell_type": "code",
   "execution_count": 8,
   "metadata": {},
   "outputs": [
    {
     "output_type": "stream",
     "name": "stdout",
     "text": [
      "5 4\n"
     ]
    }
   ],
   "source": [
    "q2()"
   ]
  },
  {
   "source": [
    "### Question 3"
   ],
   "cell_type": "markdown",
   "metadata": {}
  },
  {
   "cell_type": "code",
   "execution_count": 15,
   "metadata": {},
   "outputs": [],
   "source": [
    "def q3():\n",
    "\tl = [0] * 10\n",
    "\tprint(len(l[:-1]))"
   ]
  },
  {
   "cell_type": "code",
   "execution_count": 16,
   "metadata": {},
   "outputs": [
    {
     "output_type": "stream",
     "name": "stdout",
     "text": [
      "9\n"
     ]
    }
   ],
   "source": [
    "q3()"
   ]
  },
  {
   "source": [
    "### Question 4"
   ],
   "cell_type": "markdown",
   "metadata": {}
  },
  {
   "cell_type": "code",
   "execution_count": 28,
   "metadata": {},
   "outputs": [],
   "source": [
    "def q4():\n",
    "\tdef help(x):\n",
    "\t\treturn x % 2 == 0\n",
    "\n",
    "\tprint(list(filter(help, [i**2 for i in range(10)]))[::2])"
   ]
  },
  {
   "cell_type": "code",
   "execution_count": 29,
   "metadata": {},
   "outputs": [
    {
     "output_type": "stream",
     "name": "stdout",
     "text": [
      "[0, 16, 64]\n"
     ]
    }
   ],
   "source": [
    "q4()"
   ]
  },
  {
   "source": [
    "### Question 5"
   ],
   "cell_type": "markdown",
   "metadata": {}
  },
  {
   "cell_type": "code",
   "execution_count": 38,
   "metadata": {},
   "outputs": [],
   "source": [
    "def q5():\n",
    "\tclass A:\n",
    "\t\tdef __init__(self, x):\n",
    "\t\t\tself.x = x\n",
    "\n",
    "\t\tdef __eq__(self, o):\n",
    "\t\t\treturn self.x == o.x\n",
    "\n",
    "\ta = A(2)\n",
    "\tb = A(2)\n",
    "\tprint(a == b, a is b, b is a, a is a, a == a)"
   ]
  },
  {
   "cell_type": "code",
   "execution_count": 39,
   "metadata": {},
   "outputs": [
    {
     "output_type": "stream",
     "name": "stdout",
     "text": [
      "True False False True True\n"
     ]
    }
   ],
   "source": [
    "q5()"
   ]
  },
  {
   "source": [
    "### Question 6"
   ],
   "cell_type": "markdown",
   "metadata": {}
  },
  {
   "cell_type": "code",
   "execution_count": 49,
   "metadata": {},
   "outputs": [],
   "source": [
    "def q6():\n",
    "\tprint(*list(map(lambda x: chr(ord(x) + 1), [\"a\", \"b\", \"c\"])))"
   ]
  },
  {
   "cell_type": "code",
   "execution_count": 50,
   "metadata": {},
   "outputs": [
    {
     "output_type": "stream",
     "name": "stdout",
     "text": [
      "b c d\n"
     ]
    }
   ],
   "source": [
    "q6()"
   ]
  },
  {
   "source": [
    "### Question 7"
   ],
   "cell_type": "markdown",
   "metadata": {}
  },
  {
   "cell_type": "code",
   "execution_count": 52,
   "metadata": {},
   "outputs": [],
   "source": [
    "def q7():\n",
    "\tx = 0.1\n",
    "\ty = 0.10000000000000001\n",
    "\tprint(x == y)"
   ]
  },
  {
   "cell_type": "code",
   "execution_count": 53,
   "metadata": {},
   "outputs": [
    {
     "output_type": "stream",
     "name": "stdout",
     "text": [
      "True\n"
     ]
    }
   ],
   "source": [
    "q7()"
   ]
  },
  {
   "source": [
    "### Question 8"
   ],
   "cell_type": "markdown",
   "metadata": {}
  },
  {
   "cell_type": "code",
   "execution_count": 59,
   "metadata": {},
   "outputs": [],
   "source": [
    "def q8():\n",
    "\tx = [\"a\", 1, 2, 3, 4]\n",
    "\ty = z = x\n",
    "\tz[1] = 7\n",
    "\ty[3] = 2\n",
    "\tx[2] = 9\n",
    "\tprint(x, y, z)"
   ]
  },
  {
   "cell_type": "code",
   "execution_count": 60,
   "metadata": {},
   "outputs": [
    {
     "output_type": "stream",
     "name": "stdout",
     "text": [
      "['a', 7, 9, 2, 4] ['a', 7, 9, 2, 4] ['a', 7, 9, 2, 4]\n"
     ]
    }
   ],
   "source": [
    "q8()"
   ]
  },
  {
   "source": [
    "### Question 9"
   ],
   "cell_type": "markdown",
   "metadata": {}
  },
  {
   "cell_type": "code",
   "execution_count": 78,
   "metadata": {},
   "outputs": [],
   "source": [
    "def q9():\n",
    "    print(1 == True)\n",
    "    print(\"1\" == True)"
   ]
  },
  {
   "cell_type": "code",
   "execution_count": 79,
   "metadata": {},
   "outputs": [
    {
     "output_type": "stream",
     "name": "stdout",
     "text": [
      "True\nFalse\n"
     ]
    }
   ],
   "source": [
    "q9()"
   ]
  },
  {
   "source": [
    "### Question 10"
   ],
   "cell_type": "markdown",
   "metadata": {}
  },
  {
   "cell_type": "code",
   "execution_count": 81,
   "metadata": {},
   "outputs": [],
   "source": [
    "def q10():\n",
    "\ta, b, c, d = b'1001', b'1010', 0b1001, 0b1010\n",
    "\tprint(a + b, c + d)"
   ]
  },
  {
   "cell_type": "code",
   "execution_count": 83,
   "metadata": {},
   "outputs": [
    {
     "output_type": "stream",
     "name": "stdout",
     "text": [
      "b'10011010' 19\n"
     ]
    }
   ],
   "source": [
    "q10()"
   ]
  }
 ]
}